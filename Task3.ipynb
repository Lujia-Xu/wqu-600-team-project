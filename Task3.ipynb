{
 "cells": [
  {
   "cell_type": "markdown",
   "id": "fe4d09ea",
   "metadata": {},
   "source": [
    "# Task 3 Exploiting Correlation with Principal Component Analysis\n",
    "\n",
    "In this report, we explore how correlation and principal components help summarize yield-change data. We follow the assignment structure step by step: first using synthetic Gaussian data to illustrate PCA mechanics, and then applying the same analysis to real U.S. Treasury yields. This allows us to see the stark contrast between uncorrelated and highly correlated settings.\n",
    "\n",
    "*Author: Huayi Tang*"
   ]
  },
  {
   "cell_type": "markdown",
   "id": "2a08e183",
   "metadata": {},
   "source": [
    "## Assignment Structure\n",
    "\n",
    "We address the assignment tasks in order (a–j), using a consistent PCA workflow:\n",
    "\n",
    "a. Generate uncorrelated Gaussian yield changes.\n",
    "b. Run PCA using the covariance matrix.\n",
    "c. Discuss how much variance is explained by the first three components.\n",
    "d. Produce a scree plot of the explained variance.\n",
    "\n",
    "e. Collect six months of daily Treasury yields for five maturities.\n",
    "f. Compute daily yield changes.\n",
    "g. Apply PCA again on these real yield changes.\n",
    "h. Compare the variance explained by the leading components.\n",
    "i. Produce a scree plot for the Treasury yields.\n",
    "j. Compare the synthetic and real-data scree plots to interpret the differences."
   ]
  },
  {
   "cell_type": "code",
   "id": "e537a62e",
   "metadata": {
    "ExecuteTime": {
     "end_time": "2025-10-04T09:15:31.174344Z",
     "start_time": "2025-10-04T09:15:31.169882Z"
    }
   },
   "source": [
    "import numpy as np\n",
    "import pandas as pd\n",
    "import matplotlib.pyplot as plt\n",
    "from pathlib import Path\n",
    "\n",
    "plt.style.use(\"seaborn-v0_8-darkgrid\")\n",
    "\n",
    "PROJECT_ROOT = Path('.').resolve()\n",
    "OUTPUT_DIR = PROJECT_ROOT / 'results'\n",
    "OUTPUT_DIR.mkdir(exist_ok=True)\n",
    "DATA_DIR = PROJECT_ROOT / 'resources'\n",
    "TREASURY_CHANGES_PATH = DATA_DIR / 'treasury_daily_changes_sample.csv'\n"
   ],
   "outputs": [],
   "execution_count": 6
  },
  {
   "cell_type": "code",
   "id": "042191fe",
   "metadata": {
    "ExecuteTime": {
     "end_time": "2025-10-04T09:15:31.185095Z",
     "start_time": "2025-10-04T09:15:31.179122Z"
    }
   },
   "source": [
    "def simulate_uncorrelated_changes(n_obs: int = 500, stds: list[float] | None = None, seed: int = 42) -> pd.DataFrame:\n",
    "    \"\"\"Simulate independent Gaussian yield changes.\"\"\"\n",
    "    if stds is None:\n",
    "        stds = [0.015, 0.012, 0.018, 0.010, 0.020]\n",
    "    rng = np.random.default_rng(seed)\n",
    "    data = rng.normal(loc=0.0, scale=stds, size=(n_obs, len(stds)))\n",
    "    columns = [f\"Factor_{i+1}\" for i in range(len(stds))]\n",
    "    return pd.DataFrame(data, columns=columns)\n",
    "\n",
    "\n",
    "def run_pca(df: pd.DataFrame, use_correlation: bool = False) -> dict[str, np.ndarray]:\n",
    "    \"\"\"Run PCA using NumPy eigen-decomposition.\"\"\"\n",
    "    matrix = df.corr().to_numpy() if use_correlation else np.cov(df.to_numpy(), rowvar=False, ddof=1)\n",
    "    eigvals, eigvecs = np.linalg.eigh(matrix)\n",
    "    order = np.argsort(eigvals)[::-1]\n",
    "    eigvals = eigvals[order]\n",
    "    eigvecs = eigvecs[:, order]\n",
    "    explained = eigvals / eigvals.sum()\n",
    "    return {\n",
    "        \"eigenvalues\": eigvals,\n",
    "        \"explained\": explained,\n",
    "        \"eigenvectors\": eigvecs,\n",
    "    }\n",
    "\n",
    "\n",
    "def plot_scree(explained: np.ndarray, title: str, save_path: Path | None = None) -> plt.Figure:\n",
    "    components = np.arange(1, explained.size + 1)\n",
    "    fig, ax = plt.subplots(figsize=(6, 4))\n",
    "    ax.plot(components, explained, marker='o')\n",
    "    ax.set_xlabel('Principal Component')\n",
    "    ax.set_ylabel('Explained Variance Ratio')\n",
    "    ax.set_title(title)\n",
    "    ax.set_xticks(components)\n",
    "    ax.grid(True, linestyle='--', alpha=0.4)\n",
    "    if save_path is not None:\n",
    "        fig.savefig(save_path, dpi=150, bbox_inches='tight')\n",
    "    return fig\n",
    "\n",
    "\n",
    "def load_treasury_changes_from_csv(csv_path: Path) -> pd.DataFrame:\n",
    "    \"\"\"Load pre-downloaded Treasury yield changes from CSV.\"\"\"\n",
    "    if not csv_path.exists():\n",
    "        raise FileNotFoundError(f\"Static dataset not found: {csv_path}\")\n",
    "    df = pd.read_csv(csv_path)\n",
    "    if 'date' in df.columns:\n",
    "        df['date'] = pd.to_datetime(df['date'])\n",
    "        df = df.set_index('date')\n",
    "    return df\n"
   ],
   "outputs": [],
   "execution_count": 7
  },
  {
   "cell_type": "markdown",
   "id": "27087cf7",
   "metadata": {},
   "source": [
    "### Synthetic Experiment: Uncorrelated Gaussian Changes (a–d)\n",
    "\n",
    "For step (a), we generated five independent Gaussian random variables with mean close to zero and small standard deviations. This simulates yield changes that should not share strong correlations.\n",
    "\n",
    "In step (b), we applied PCA using the covariance matrix. The results (c) showed that the variance explained by the first three components was fairly evenly distributed, with no single component dominating. This confirmed our expectation: in uncorrelated data, each principal component captures roughly the same share of variance.\n",
    "\n",
    "The scree plot (d) declined gradually and evenly, showing no sharp drop between components. This visualization reinforced the interpretation that the variables behaved independently."
   ]
  },
  {
   "cell_type": "code",
   "id": "6abd300e",
   "metadata": {
    "ExecuteTime": {
     "end_time": "2025-10-04T09:15:31.306372Z",
     "start_time": "2025-10-04T09:15:31.197181Z"
    }
   },
   "source": [
    "# === Simulated independent Gaussian yield changes ===\n",
    "simulated_df = simulate_uncorrelated_changes()\n",
    "display(simulated_df.head())\n",
    "\n",
    "pca_sim = run_pca(simulated_df, use_correlation=False)\n",
    "explained_sim = pca_sim[\"explained\"]\n",
    "summary_sim = pd.DataFrame({\n",
    "    \"component\": np.arange(1, explained_sim.size + 1),\n",
    "    \"eigenvalue\": pca_sim[\"eigenvalues\"],\n",
    "    \"explained_variance_ratio\": explained_sim,\n",
    "})\n",
    "summary_sim.to_csv(OUTPUT_DIR / \"uncorrelated_pca_variance.csv\", index=False)\n",
    "\n",
    "for idx, (eig, ratio) in enumerate(zip(pca_sim[\"eigenvalues\"], explained_sim), start=1):\n",
    "    print(f\"Component {idx}: eigenvalue = {eig:.6f}, variance share = {ratio:.2%}\")\n",
    "\n",
    "plot_scree(explained_sim, \"Scree Plot – Simulated Uncorrelated Data\", OUTPUT_DIR / \"uncorrelated_scree.png\")\n",
    "plt.show()"
   ],
   "outputs": [
    {
     "data": {
      "text/plain": [
       "   Factor_1  Factor_2  Factor_3  Factor_4  Factor_5\n",
       "0  0.004571 -0.012480  0.013508  0.009406 -0.039021\n",
       "1 -0.019533  0.001534 -0.005692 -0.000168 -0.017061\n",
       "2  0.013191  0.009334  0.001189  0.011272  0.009350\n",
       "3 -0.012889  0.004425 -0.017260  0.008785 -0.000999\n",
       "4 -0.002773 -0.008171  0.022006 -0.001545 -0.008567"
      ],
      "text/html": [
       "<div>\n",
       "<style scoped>\n",
       "    .dataframe tbody tr th:only-of-type {\n",
       "        vertical-align: middle;\n",
       "    }\n",
       "\n",
       "    .dataframe tbody tr th {\n",
       "        vertical-align: top;\n",
       "    }\n",
       "\n",
       "    .dataframe thead th {\n",
       "        text-align: right;\n",
       "    }\n",
       "</style>\n",
       "<table border=\"1\" class=\"dataframe\">\n",
       "  <thead>\n",
       "    <tr style=\"text-align: right;\">\n",
       "      <th></th>\n",
       "      <th>Factor_1</th>\n",
       "      <th>Factor_2</th>\n",
       "      <th>Factor_3</th>\n",
       "      <th>Factor_4</th>\n",
       "      <th>Factor_5</th>\n",
       "    </tr>\n",
       "  </thead>\n",
       "  <tbody>\n",
       "    <tr>\n",
       "      <th>0</th>\n",
       "      <td>0.004571</td>\n",
       "      <td>-0.012480</td>\n",
       "      <td>0.013508</td>\n",
       "      <td>0.009406</td>\n",
       "      <td>-0.039021</td>\n",
       "    </tr>\n",
       "    <tr>\n",
       "      <th>1</th>\n",
       "      <td>-0.019533</td>\n",
       "      <td>0.001534</td>\n",
       "      <td>-0.005692</td>\n",
       "      <td>-0.000168</td>\n",
       "      <td>-0.017061</td>\n",
       "    </tr>\n",
       "    <tr>\n",
       "      <th>2</th>\n",
       "      <td>0.013191</td>\n",
       "      <td>0.009334</td>\n",
       "      <td>0.001189</td>\n",
       "      <td>0.011272</td>\n",
       "      <td>0.009350</td>\n",
       "    </tr>\n",
       "    <tr>\n",
       "      <th>3</th>\n",
       "      <td>-0.012889</td>\n",
       "      <td>0.004425</td>\n",
       "      <td>-0.017260</td>\n",
       "      <td>0.008785</td>\n",
       "      <td>-0.000999</td>\n",
       "    </tr>\n",
       "    <tr>\n",
       "      <th>4</th>\n",
       "      <td>-0.002773</td>\n",
       "      <td>-0.008171</td>\n",
       "      <td>0.022006</td>\n",
       "      <td>-0.001545</td>\n",
       "      <td>-0.008567</td>\n",
       "    </tr>\n",
       "  </tbody>\n",
       "</table>\n",
       "</div>"
      ]
     },
     "metadata": {},
     "output_type": "display_data"
    },
    {
     "name": "stdout",
     "output_type": "stream",
     "text": [
      "Component 1: eigenvalue = 0.000392, variance share = 33.04%\n",
      "Component 2: eigenvalue = 0.000316, variance share = 26.61%\n",
      "Component 3: eigenvalue = 0.000225, variance share = 18.97%\n",
      "Component 4: eigenvalue = 0.000148, variance share = 12.49%\n",
      "Component 5: eigenvalue = 0.000106, variance share = 8.89%\n"
     ]
    },
    {
     "data": {
      "text/plain": [
       "<Figure size 600x400 with 1 Axes>"
      ],
      "image/png": "[encoded data removed]"
     },
     "metadata": {},
     "output_type": "display_data"
    }
   ],
   "execution_count": 8
  },
  {
   "cell_type": "markdown",
   "id": "d3409eae",
   "metadata": {},
   "source": [
    "The PCA results showed that Component 1 explained 33.04% of the variance, Component 2 explained 26.61%, and Component 3 explained 18.97%. Together, the first three components already account for nearly 79% of the total variance. The scree plot shows a fairly smooth and even decline, with no single component dominating. This behavior is consistent with our expectation for uncorrelated Gaussian variables, where variance is distributed relatively evenly across principal components."
   ]
  },
  {
   "cell_type": "markdown",
   "id": "eb346bde",
   "metadata": {},
   "source": [
    "### 2. Real Data: Treasury Yield Changes\n",
    "\n",
    "The second experiment uses a static dataset (`data/treasury_daily_changes_sample.csv`) generated from the FRED API. Because the CSV is bundled with this repository, classmates can reproduce the PCA without requesting an API key. Run the cell below to load the sample, inspect the first rows, and compute the principal components."
   ]
  },
  {
   "cell_type": "code",
   "id": "d80d3a82",
   "metadata": {
    "ExecuteTime": {
     "end_time": "2025-10-04T09:15:31.435977Z",
     "start_time": "2025-10-04T09:15:31.314866Z"
    }
   },
   "source": [
    "# === Treasury yield changes (daily) ===\n",
    "yield_changes = load_treasury_changes_from_csv(TREASURY_CHANGES_PATH)\n",
    "display(yield_changes.head())\n",
    "\n",
    "pca_real = run_pca(yield_changes, use_correlation=False)\n",
    "explained_real = pca_real['explained']\n",
    "summary_real = pd.DataFrame({\n",
    "    'component': np.arange(1, explained_real.size + 1),\n",
    "    'eigenvalue': pca_real['eigenvalues'],\n",
    "    'explained_variance_ratio': explained_real,\n",
    "})\n",
    "summary_real.to_csv(OUTPUT_DIR / 'treasury_pca_variance.csv', index=False)\n",
    "\n",
    "for idx, (eig, ratio) in enumerate(zip(pca_real['eigenvalues'], explained_real), start=1):\n",
    "    print(f\"Component {idx}: eigenvalue = {eig:.6f}, variance share = {ratio:.2%}\")\n",
    "\n",
    "plot_scree(explained_real, 'Scree Plot – Treasury Yield Changes', OUTPUT_DIR / 'treasury_scree.png')\n",
    "plt.show()\n"
   ],
   "outputs": [
    {
     "data": {
      "text/plain": [
       "            change_DGS1MO  change_DGS3MO  change_DGS1  change_DGS5  \\\n",
       "date                                                                 \n",
       "2025-04-01           0.00           0.00        -0.02        -0.05   \n",
       "2025-04-02           0.00           0.00         0.03         0.04   \n",
       "2025-04-03          -0.02          -0.01        -0.12        -0.20   \n",
       "2025-04-04           0.00          -0.03        -0.06        -0.03   \n",
       "2025-04-07           0.00           0.01         0.00         0.10   \n",
       "\n",
       "            change_DGS10  \n",
       "date                      \n",
       "2025-04-01         -0.06  \n",
       "2025-04-02          0.03  \n",
       "2025-04-03         -0.14  \n",
       "2025-04-04         -0.05  \n",
       "2025-04-07          0.14  "
      ],
      "text/html": [
       "<div>\n",
       "<style scoped>\n",
       "    .dataframe tbody tr th:only-of-type {\n",
       "        vertical-align: middle;\n",
       "    }\n",
       "\n",
       "    .dataframe tbody tr th {\n",
       "        vertical-align: top;\n",
       "    }\n",
       "\n",
       "    .dataframe thead th {\n",
       "        text-align: right;\n",
       "    }\n",
       "</style>\n",
       "<table border=\"1\" class=\"dataframe\">\n",
       "  <thead>\n",
       "    <tr style=\"text-align: right;\">\n",
       "      <th></th>\n",
       "      <th>change_DGS1MO</th>\n",
       "      <th>change_DGS3MO</th>\n",
       "      <th>change_DGS1</th>\n",
       "      <th>change_DGS5</th>\n",
       "      <th>change_DGS10</th>\n",
       "    </tr>\n",
       "    <tr>\n",
       "      <th>date</th>\n",
       "      <th></th>\n",
       "      <th></th>\n",
       "      <th></th>\n",
       "      <th></th>\n",
       "      <th></th>\n",
       "    </tr>\n",
       "  </thead>\n",
       "  <tbody>\n",
       "    <tr>\n",
       "      <th>2025-04-01</th>\n",
       "      <td>0.00</td>\n",
       "      <td>0.00</td>\n",
       "      <td>-0.02</td>\n",
       "      <td>-0.05</td>\n",
       "      <td>-0.06</td>\n",
       "    </tr>\n",
       "    <tr>\n",
       "      <th>2025-04-02</th>\n",
       "      <td>0.00</td>\n",
       "      <td>0.00</td>\n",
       "      <td>0.03</td>\n",
       "      <td>0.04</td>\n",
       "      <td>0.03</td>\n",
       "    </tr>\n",
       "    <tr>\n",
       "      <th>2025-04-03</th>\n",
       "      <td>-0.02</td>\n",
       "      <td>-0.01</td>\n",
       "      <td>-0.12</td>\n",
       "      <td>-0.20</td>\n",
       "      <td>-0.14</td>\n",
       "    </tr>\n",
       "    <tr>\n",
       "      <th>2025-04-04</th>\n",
       "      <td>0.00</td>\n",
       "      <td>-0.03</td>\n",
       "      <td>-0.06</td>\n",
       "      <td>-0.03</td>\n",
       "      <td>-0.05</td>\n",
       "    </tr>\n",
       "    <tr>\n",
       "      <th>2025-04-07</th>\n",
       "      <td>0.00</td>\n",
       "      <td>0.01</td>\n",
       "      <td>0.00</td>\n",
       "      <td>0.10</td>\n",
       "      <td>0.14</td>\n",
       "    </tr>\n",
       "  </tbody>\n",
       "</table>\n",
       "</div>"
      ]
     },
     "metadata": {},
     "output_type": "display_data"
    },
    {
     "name": "stdout",
     "output_type": "stream",
     "text": [
      "Component 1: eigenvalue = 0.007394, variance share = 79.74%\n",
      "Component 2: eigenvalue = 0.000847, variance share = 9.13%\n",
      "Component 3: eigenvalue = 0.000604, variance share = 6.52%\n",
      "Component 4: eigenvalue = 0.000296, variance share = 3.19%\n",
      "Component 5: eigenvalue = 0.000132, variance share = 1.43%\n"
     ]
    },
    {
     "data": {
      "text/plain": [
       "<Figure size 600x400 with 1 Axes>"
      ],
      "image/png": "[encoded data removed]"
     },
     "metadata": {},
     "output_type": "display_data"
    }
   ],
   "execution_count": 9
  },
  {
   "cell_type": "markdown",
   "id": "da7d73ef",
   "metadata": {},
   "source": [
    "The PCA results on Treasury yield changes show that Component 1 alone explains 79.74% of the total variance, while Components 2 and 3 explain 9.13% and 6.52%, respectively. Together, the first three components account for more than 95% of the total variance. The scree plot drops sharply after PC1, indicating that yield changes are dominated by a single common factor. This dominant factor corresponds to the level movement of the yield curve, while the smaller contributions from PC2 and PC3 align with the slope and curvature dynamics."
   ]
  },
  {
   "cell_type": "code",
   "id": "ac61f589e9b478d9",
   "metadata": {
    "ExecuteTime": {
     "end_time": "2025-10-04T09:14:32.177143Z",
     "start_time": "2025-10-04T09:14:32.173438Z"
    }
   },
   "source": [
    "# === Comparison summary ===\n",
    "def format_ratios(label: str, ratios: np.ndarray, top: int = 5) -> str:\n",
    "    parts = [f\"PC{i+1}: {ratio:.2%}\" for i, ratio in enumerate(ratios[:top])]\n",
    "    return f\"{label}: \" + \", \".join(parts)\n",
    "\n",
    "print(format_ratios(\"Simulated\", explained_sim, top=5))\n",
    "print(format_ratios(\"Treasury\", explained_real, top=5))\n",
    "print(\"Key insight: the simulated series spread variance fairly evenly, while Treasury yield changes exhibit a dominant level factor (PC1) followed by much smaller components.\")"
   ],
   "outputs": [
    {
     "name": "stdout",
     "output_type": "stream",
     "text": [
      "Simulated: PC1: 33.04%, PC2: 26.61%, PC3: 18.97%, PC4: 12.49%, PC5: 8.89%\n",
      "Treasury: PC1: 79.74%, PC2: 9.13%, PC3: 6.52%, PC4: 3.19%, PC5: 1.43%\n",
      "Key insight: the simulated series spread variance fairly evenly, while Treasury yield changes exhibit a dominant level factor (PC1) followed by much smaller components.\n"
     ]
    }
   ],
   "execution_count": 5
  },
  {
   "cell_type": "markdown",
   "id": "3618e0fb",
   "metadata": {},
   "source": [
    "### Discussion and Conclusion\n",
    "\n",
    "In the simulated Gaussian data, no single component dominated the variance: each principal component carried a comparable share. This makes sense, since the variables were explicitly designed to be independent, so PCA has no natural structure to exploit.\n",
    "\n",
    "The story changes once we look at real U.S. Treasury yield data. The first component alone explains nearly 80% of the variance, which is essentially the **level factor**: all maturities moving up and down together, reflecting shifts in the overall interest-rate environment. The second and third components explain far less and correspond to changes in the slope and curvature of the yield curve. This matches financial intuition—most of the action in bond markets is a broad parallel shift, while more subtle shape adjustments are secondary.\n",
    "\n",
    "These results highlight that PCA is not just a mathematical trick to reduce dimensions. It reveals the true drivers behind market data. In this case, the first principal component already captures the bulk of yield curve dynamics. If we were building a simple risk-factor model, focusing only on that component would already explain most of the observed movements. This is exactly why PCA remains such a valuable tool in risk management and fixed income analysis.\n"
   ]
  }
 ],
 "metadata": {
  "kernelspec": {
   "display_name": "Python 3 (ipykernel)",
   "language": "python",
   "name": "python3"
  }
 },
 "nbformat": 4,
 "nbformat_minor": 5
}
